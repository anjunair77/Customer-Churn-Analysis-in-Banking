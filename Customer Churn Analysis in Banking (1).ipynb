{
 "cells": [
  {
   "cell_type": "code",
   "execution_count": 50,
   "id": "e4687e0c-ffc4-49bd-9fa7-c8f1b1ea774b",
   "metadata": {},
   "outputs": [
    {
     "name": "stdout",
     "output_type": "stream",
     "text": [
      "Requirement already satisfied: ipython-sql in /opt/anaconda3/lib/python3.12/site-packages (0.5.0)\n",
      "Requirement already satisfied: prettytable in /opt/anaconda3/lib/python3.12/site-packages (from ipython-sql) (2.5.0)\n",
      "Requirement already satisfied: ipython in /opt/anaconda3/lib/python3.12/site-packages (from ipython-sql) (8.25.0)\n",
      "Requirement already satisfied: sqlalchemy>=2.0 in /opt/anaconda3/lib/python3.12/site-packages (from ipython-sql) (2.0.30)\n",
      "Requirement already satisfied: sqlparse in /opt/anaconda3/lib/python3.12/site-packages (from ipython-sql) (0.5.3)\n",
      "Requirement already satisfied: six in /opt/anaconda3/lib/python3.12/site-packages (from ipython-sql) (1.16.0)\n",
      "Requirement already satisfied: ipython-genutils in /opt/anaconda3/lib/python3.12/site-packages (from ipython-sql) (0.2.0)\n",
      "Requirement already satisfied: typing-extensions>=4.6.0 in /opt/anaconda3/lib/python3.12/site-packages (from sqlalchemy>=2.0->ipython-sql) (4.11.0)\n",
      "Requirement already satisfied: decorator in /opt/anaconda3/lib/python3.12/site-packages (from ipython->ipython-sql) (5.1.1)\n",
      "Requirement already satisfied: jedi>=0.16 in /opt/anaconda3/lib/python3.12/site-packages (from ipython->ipython-sql) (0.18.1)\n",
      "Requirement already satisfied: matplotlib-inline in /opt/anaconda3/lib/python3.12/site-packages (from ipython->ipython-sql) (0.1.6)\n",
      "Requirement already satisfied: prompt-toolkit<3.1.0,>=3.0.41 in /opt/anaconda3/lib/python3.12/site-packages (from ipython->ipython-sql) (3.0.43)\n",
      "Requirement already satisfied: pygments>=2.4.0 in /opt/anaconda3/lib/python3.12/site-packages (from ipython->ipython-sql) (2.15.1)\n",
      "Requirement already satisfied: stack-data in /opt/anaconda3/lib/python3.12/site-packages (from ipython->ipython-sql) (0.2.0)\n",
      "Requirement already satisfied: traitlets>=5.13.0 in /opt/anaconda3/lib/python3.12/site-packages (from ipython->ipython-sql) (5.14.3)\n",
      "Requirement already satisfied: pexpect>4.3 in /opt/anaconda3/lib/python3.12/site-packages (from ipython->ipython-sql) (4.8.0)\n",
      "Requirement already satisfied: wcwidth in /opt/anaconda3/lib/python3.12/site-packages (from prettytable->ipython-sql) (0.2.5)\n",
      "Requirement already satisfied: parso<0.9.0,>=0.8.0 in /opt/anaconda3/lib/python3.12/site-packages (from jedi>=0.16->ipython->ipython-sql) (0.8.3)\n",
      "Requirement already satisfied: ptyprocess>=0.5 in /opt/anaconda3/lib/python3.12/site-packages (from pexpect>4.3->ipython->ipython-sql) (0.7.0)\n",
      "Requirement already satisfied: executing in /opt/anaconda3/lib/python3.12/site-packages (from stack-data->ipython->ipython-sql) (0.8.3)\n",
      "Requirement already satisfied: asttokens in /opt/anaconda3/lib/python3.12/site-packages (from stack-data->ipython->ipython-sql) (2.0.5)\n",
      "Requirement already satisfied: pure-eval in /opt/anaconda3/lib/python3.12/site-packages (from stack-data->ipython->ipython-sql) (0.2.2)\n"
     ]
    }
   ],
   "source": [
    "!pip install ipython-sql"
   ]
  },
  {
   "cell_type": "code",
   "execution_count": 51,
   "id": "f11d53e7-15a5-414e-a99a-c46aa41952bc",
   "metadata": {},
   "outputs": [],
   "source": [
    "%reload_ext sql"
   ]
  },
  {
   "cell_type": "code",
   "execution_count": 52,
   "id": "b12c4b6e-e5d9-47f4-8efd-4512c5fd8b01",
   "metadata": {},
   "outputs": [],
   "source": [
    "%sql sqlite:///customer_churn.db"
   ]
  },
  {
   "cell_type": "markdown",
   "id": "7cecb009-b0aa-41d4-8fd1-772d3c8f1541",
   "metadata": {},
   "source": [
    "## Create the Table"
   ]
  },
  {
   "cell_type": "code",
   "execution_count": 54,
   "id": "9f0a7d67-fc1b-44fd-839b-6ba5148f1d5a",
   "metadata": {},
   "outputs": [
    {
     "name": "stdout",
     "output_type": "stream",
     "text": [
      "   sqlite://\n",
      "   sqlite:///churn.db\n",
      " * sqlite:///customer_churn.db\n",
      "(sqlite3.OperationalError) table customers already exists\n",
      "[SQL: CREATE TABLE customers (\n",
      "    customer_id INTEGER PRIMARY KEY,\n",
      "    age INTEGER,\n",
      "    gender TEXT,\n",
      "    tenure_years INTEGER,\n",
      "    account_balance REAL,\n",
      "    num_products INTEGER,\n",
      "    has_credit_card INTEGER,\n",
      "    is_active_member INTEGER,\n",
      "    estimated_salary REAL,\n",
      "    churn INTEGER\n",
      ");]\n",
      "(Background on this error at: https://sqlalche.me/e/20/e3q8)\n"
     ]
    }
   ],
   "source": [
    "%%sql\n",
    "\n",
    "CREATE TABLE customers (\n",
    "    customer_id INTEGER PRIMARY KEY,\n",
    "    age INTEGER,\n",
    "    gender TEXT,\n",
    "    tenure_years INTEGER,\n",
    "    account_balance REAL,\n",
    "    num_products INTEGER,\n",
    "    has_credit_card INTEGER,\n",
    "    is_active_member INTEGER,\n",
    "    estimated_salary REAL,\n",
    "    churn INTEGER\n",
    ");\n"
   ]
  },
  {
   "cell_type": "markdown",
   "id": "06b10fc6-4343-462d-8f3d-92374e9b51bb",
   "metadata": {},
   "source": [
    "## Load Data into the Table"
   ]
  },
  {
   "cell_type": "code",
   "execution_count": 79,
   "id": "cf092d93-4b19-4b7f-a5fa-a0ddaa2bcfdf",
   "metadata": {},
   "outputs": [
    {
     "name": "stdout",
     "output_type": "stream",
     "text": [
      "Requirement already satisfied: prettytable==2.5.0 in /opt/anaconda3/lib/python3.12/site-packages (2.5.0)\n",
      "Requirement already satisfied: wcwidth in /opt/anaconda3/lib/python3.12/site-packages (from prettytable==2.5.0) (0.2.5)\n",
      "Note: you may need to restart the kernel to use updated packages.\n"
     ]
    }
   ],
   "source": [
    "pip install prettytable==2.5.0\n"
   ]
  },
  {
   "cell_type": "code",
   "execution_count": 1,
   "id": "77687865-ef68-431a-9c61-10fcc071d9ad",
   "metadata": {},
   "outputs": [],
   "source": [
    "import pandas as pd\n",
    "\n",
    "df = pd.read_csv(\"customer_churn_data.csv\")  # Make sure file exists\n",
    "\n"
   ]
  },
  {
   "cell_type": "code",
   "execution_count": 3,
   "id": "c7847727-bc6b-4527-8a5d-a493a8f9ca79",
   "metadata": {},
   "outputs": [
    {
     "data": {
      "text/plain": [
       "1000"
      ]
     },
     "execution_count": 3,
     "metadata": {},
     "output_type": "execute_result"
    }
   ],
   "source": [
    "import sqlite3\n",
    "conn = sqlite3.connect(\"churn.db\")\n",
    "df.to_sql(\"customers\", conn, index=False, if_exists=\"replace\")\n"
   ]
  },
  {
   "cell_type": "code",
   "execution_count": 5,
   "id": "d5d650cc-1139-4573-b853-4e1340ad3eae",
   "metadata": {},
   "outputs": [],
   "source": [
    "%load_ext sql\n",
    "%sql sqlite:///churn.db\n"
   ]
  },
  {
   "cell_type": "markdown",
   "id": "45f09a0f-5051-4271-a425-868978bbcd37",
   "metadata": {},
   "source": [
    "### 1. Overall Churn Rate\n",
    "This query calculates the overall churn percentage."
   ]
  },
  {
   "cell_type": "code",
   "execution_count": 7,
   "id": "c52a72de-e78b-4901-b486-f16efd20054c",
   "metadata": {},
   "outputs": [
    {
     "name": "stdout",
     "output_type": "stream",
     "text": [
      " * sqlite:///churn.db\n",
      "Done.\n"
     ]
    },
    {
     "data": {
      "text/html": [
       "<table>\n",
       "    <thead>\n",
       "        <tr>\n",
       "            <th>total_customers</th>\n",
       "            <th>total_churned</th>\n",
       "            <th>churn_rate_percent</th>\n",
       "        </tr>\n",
       "    </thead>\n",
       "    <tbody>\n",
       "        <tr>\n",
       "            <td>1000</td>\n",
       "            <td>203</td>\n",
       "            <td>20.3</td>\n",
       "        </tr>\n",
       "    </tbody>\n",
       "</table>"
      ],
      "text/plain": [
       "[(1000, 203, 20.3)]"
      ]
     },
     "execution_count": 7,
     "metadata": {},
     "output_type": "execute_result"
    }
   ],
   "source": [
    "%%sql\n",
    "SELECT \n",
    "    COUNT(*) AS total_customers,\n",
    "    SUM(churn) AS total_churned,\n",
    "    ROUND(AVG(churn) * 100, 2) AS churn_rate_percent\n",
    "FROM customers;\n",
    "\n"
   ]
  },
  {
   "cell_type": "markdown",
   "id": "3e56a1ff-e458-42de-b78e-871eef13662e",
   "metadata": {},
   "source": [
    "## Churn by Gender"
   ]
  },
  {
   "cell_type": "code",
   "execution_count": 13,
   "id": "e9b8adbf-b22f-462e-8d46-ed1c01cf6b27",
   "metadata": {},
   "outputs": [
    {
     "name": "stdout",
     "output_type": "stream",
     "text": [
      " * sqlite:///churn.db\n",
      "Done.\n"
     ]
    },
    {
     "data": {
      "text/html": [
       "<table>\n",
       "    <thead>\n",
       "        <tr>\n",
       "            <th>gender</th>\n",
       "            <th>total</th>\n",
       "            <th>churned</th>\n",
       "            <th>churn_rate_percent</th>\n",
       "        </tr>\n",
       "    </thead>\n",
       "    <tbody>\n",
       "        <tr>\n",
       "            <td>Female</td>\n",
       "            <td>476</td>\n",
       "            <td>90</td>\n",
       "            <td>18.91</td>\n",
       "        </tr>\n",
       "        <tr>\n",
       "            <td>Male</td>\n",
       "            <td>524</td>\n",
       "            <td>113</td>\n",
       "            <td>21.56</td>\n",
       "        </tr>\n",
       "    </tbody>\n",
       "</table>"
      ],
      "text/plain": [
       "[('Female', 476, 90, 18.91), ('Male', 524, 113, 21.56)]"
      ]
     },
     "execution_count": 13,
     "metadata": {},
     "output_type": "execute_result"
    }
   ],
   "source": [
    "%%sql\n",
    "SELECT \n",
    "    gender,\n",
    "    COUNT(*) AS total,\n",
    "    SUM(churn) AS churned,\n",
    "    ROUND(AVG(churn) * 100, 2) AS churn_rate_percent\n",
    "FROM customers\n",
    "GROUP BY gender;\n"
   ]
  },
  {
   "cell_type": "markdown",
   "id": "a5308b14-d33f-4754-a4b2-34026042a877",
   "metadata": {},
   "source": [
    "## Churn by Account Tenure"
   ]
  },
  {
   "cell_type": "code",
   "execution_count": 17,
   "id": "55455f18-a2eb-4f59-a3af-01a7432887d3",
   "metadata": {},
   "outputs": [
    {
     "name": "stdout",
     "output_type": "stream",
     "text": [
      " * sqlite:///churn.db\n",
      "Done.\n"
     ]
    },
    {
     "data": {
      "text/html": [
       "<table>\n",
       "    <thead>\n",
       "        <tr>\n",
       "            <th>tenure_years</th>\n",
       "            <th>total</th>\n",
       "            <th>churned</th>\n",
       "            <th>churn_rate_percent</th>\n",
       "        </tr>\n",
       "    </thead>\n",
       "    <tbody>\n",
       "        <tr>\n",
       "            <td>0</td>\n",
       "            <td>94</td>\n",
       "            <td>18</td>\n",
       "            <td>19.15</td>\n",
       "        </tr>\n",
       "        <tr>\n",
       "            <td>1</td>\n",
       "            <td>113</td>\n",
       "            <td>30</td>\n",
       "            <td>26.55</td>\n",
       "        </tr>\n",
       "        <tr>\n",
       "            <td>2</td>\n",
       "            <td>92</td>\n",
       "            <td>16</td>\n",
       "            <td>17.39</td>\n",
       "        </tr>\n",
       "        <tr>\n",
       "            <td>3</td>\n",
       "            <td>107</td>\n",
       "            <td>21</td>\n",
       "            <td>19.63</td>\n",
       "        </tr>\n",
       "        <tr>\n",
       "            <td>4</td>\n",
       "            <td>104</td>\n",
       "            <td>20</td>\n",
       "            <td>19.23</td>\n",
       "        </tr>\n",
       "        <tr>\n",
       "            <td>5</td>\n",
       "            <td>101</td>\n",
       "            <td>13</td>\n",
       "            <td>12.87</td>\n",
       "        </tr>\n",
       "        <tr>\n",
       "            <td>6</td>\n",
       "            <td>97</td>\n",
       "            <td>24</td>\n",
       "            <td>24.74</td>\n",
       "        </tr>\n",
       "        <tr>\n",
       "            <td>7</td>\n",
       "            <td>99</td>\n",
       "            <td>27</td>\n",
       "            <td>27.27</td>\n",
       "        </tr>\n",
       "        <tr>\n",
       "            <td>8</td>\n",
       "            <td>96</td>\n",
       "            <td>19</td>\n",
       "            <td>19.79</td>\n",
       "        </tr>\n",
       "        <tr>\n",
       "            <td>9</td>\n",
       "            <td>97</td>\n",
       "            <td>15</td>\n",
       "            <td>15.46</td>\n",
       "        </tr>\n",
       "    </tbody>\n",
       "</table>"
      ],
      "text/plain": [
       "[(0, 94, 18, 19.15),\n",
       " (1, 113, 30, 26.55),\n",
       " (2, 92, 16, 17.39),\n",
       " (3, 107, 21, 19.63),\n",
       " (4, 104, 20, 19.23),\n",
       " (5, 101, 13, 12.87),\n",
       " (6, 97, 24, 24.74),\n",
       " (7, 99, 27, 27.27),\n",
       " (8, 96, 19, 19.79),\n",
       " (9, 97, 15, 15.46)]"
      ]
     },
     "execution_count": 17,
     "metadata": {},
     "output_type": "execute_result"
    }
   ],
   "source": [
    "%%sql\n",
    "SELECT \n",
    "    tenure_years,\n",
    "    COUNT(*) AS total,\n",
    "    SUM(churn) AS churned,\n",
    "    ROUND(AVG(churn) * 100, 2) AS churn_rate_percent\n",
    "FROM customers\n",
    "GROUP BY tenure_years\n",
    "ORDER BY tenure_years;\n"
   ]
  },
  {
   "cell_type": "markdown",
   "id": "54f0e5af-0ebc-4ede-b37c-30036d0a2fe0",
   "metadata": {},
   "source": [
    "## Churn Based on Account Activity"
   ]
  },
  {
   "cell_type": "code",
   "execution_count": 20,
   "id": "8eb8d1c4-1b74-4a04-a38c-a222e4755037",
   "metadata": {},
   "outputs": [
    {
     "name": "stdout",
     "output_type": "stream",
     "text": [
      " * sqlite:///churn.db\n",
      "Done.\n"
     ]
    },
    {
     "data": {
      "text/html": [
       "<table>\n",
       "    <thead>\n",
       "        <tr>\n",
       "            <th>is_active_member</th>\n",
       "            <th>total</th>\n",
       "            <th>churned</th>\n",
       "            <th>churn_rate_percent</th>\n",
       "        </tr>\n",
       "    </thead>\n",
       "    <tbody>\n",
       "        <tr>\n",
       "            <td>0</td>\n",
       "            <td>490</td>\n",
       "            <td>114</td>\n",
       "            <td>23.27</td>\n",
       "        </tr>\n",
       "        <tr>\n",
       "            <td>1</td>\n",
       "            <td>510</td>\n",
       "            <td>89</td>\n",
       "            <td>17.45</td>\n",
       "        </tr>\n",
       "    </tbody>\n",
       "</table>"
      ],
      "text/plain": [
       "[(0, 490, 114, 23.27), (1, 510, 89, 17.45)]"
      ]
     },
     "execution_count": 20,
     "metadata": {},
     "output_type": "execute_result"
    }
   ],
   "source": [
    "%%sql\n",
    "SELECT \n",
    "    is_active_member,\n",
    "    COUNT(*) AS total,\n",
    "    SUM(churn) AS churned,\n",
    "    ROUND(AVG(churn) * 100, 2) AS churn_rate_percent\n",
    "FROM customers\n",
    "GROUP BY is_active_member;\n"
   ]
  },
  {
   "cell_type": "markdown",
   "id": "62140a79-739e-4999-9c1d-5ad786184f89",
   "metadata": {},
   "source": [
    "## Churn by Product Holding"
   ]
  },
  {
   "cell_type": "code",
   "execution_count": 23,
   "id": "54247c03-bd33-4fd6-a02a-978963d5c53a",
   "metadata": {},
   "outputs": [
    {
     "name": "stdout",
     "output_type": "stream",
     "text": [
      " * sqlite:///churn.db\n",
      "Done.\n"
     ]
    },
    {
     "data": {
      "text/html": [
       "<table>\n",
       "    <thead>\n",
       "        <tr>\n",
       "            <th>num_products</th>\n",
       "            <th>total</th>\n",
       "            <th>churned</th>\n",
       "            <th>churn_rate_percent</th>\n",
       "        </tr>\n",
       "    </thead>\n",
       "    <tbody>\n",
       "        <tr>\n",
       "            <td>1</td>\n",
       "            <td>262</td>\n",
       "            <td>59</td>\n",
       "            <td>22.52</td>\n",
       "        </tr>\n",
       "        <tr>\n",
       "            <td>2</td>\n",
       "            <td>245</td>\n",
       "            <td>45</td>\n",
       "            <td>18.37</td>\n",
       "        </tr>\n",
       "        <tr>\n",
       "            <td>3</td>\n",
       "            <td>259</td>\n",
       "            <td>57</td>\n",
       "            <td>22.01</td>\n",
       "        </tr>\n",
       "        <tr>\n",
       "            <td>4</td>\n",
       "            <td>234</td>\n",
       "            <td>42</td>\n",
       "            <td>17.95</td>\n",
       "        </tr>\n",
       "    </tbody>\n",
       "</table>"
      ],
      "text/plain": [
       "[(1, 262, 59, 22.52),\n",
       " (2, 245, 45, 18.37),\n",
       " (3, 259, 57, 22.01),\n",
       " (4, 234, 42, 17.95)]"
      ]
     },
     "execution_count": 23,
     "metadata": {},
     "output_type": "execute_result"
    }
   ],
   "source": [
    "%%sql\n",
    "SELECT \n",
    "    num_products,\n",
    "    COUNT(*) AS total,\n",
    "    SUM(churn) AS churned,\n",
    "    ROUND(AVG(churn) * 100, 2) AS churn_rate_percent\n",
    "FROM customers\n",
    "GROUP BY num_products\n",
    "ORDER BY num_products;\n"
   ]
  },
  {
   "cell_type": "code",
   "execution_count": null,
   "id": "e1c40577-1156-4b79-9d79-e08d915aa222",
   "metadata": {},
   "outputs": [],
   "source": []
  }
 ],
 "metadata": {
  "kernelspec": {
   "display_name": "Python 3 (ipykernel)",
   "language": "python",
   "name": "python3"
  },
  "language_info": {
   "codemirror_mode": {
    "name": "ipython",
    "version": 3
   },
   "file_extension": ".py",
   "mimetype": "text/x-python",
   "name": "python",
   "nbconvert_exporter": "python",
   "pygments_lexer": "ipython3",
   "version": "3.12.4"
  }
 },
 "nbformat": 4,
 "nbformat_minor": 5
}
